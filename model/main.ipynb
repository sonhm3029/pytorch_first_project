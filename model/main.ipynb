{
  "cells": [
    {
      "cell_type": "code",
      "execution_count": 32,
      "metadata": {
        "id": "lcK9YyT2lLas"
      },
      "outputs": [],
      "source": [
        "import torch\n",
        "import torchvision\n",
        "from torchvision import transforms,datasets\n",
        "import torch.nn as nn\n",
        "import numpy as np\n",
        "from torch.utils.data import DataLoader"
      ]
    },
    {
      "cell_type": "markdown",
      "metadata": {
        "id": "GMvGGlmklLav"
      },
      "source": [
        "## Device setting"
      ]
    },
    {
      "cell_type": "code",
      "execution_count": 33,
      "metadata": {
        "id": "daRWTJvYlLax"
      },
      "outputs": [],
      "source": [
        "device = torch.device('cuda' if torch.cuda.is_available() else 'cpu')"
      ]
    },
    {
      "cell_type": "markdown",
      "metadata": {
        "id": "m_vcRCl_lLay"
      },
      "source": [
        "## Hyper parametters"
      ]
    },
    {
      "cell_type": "code",
      "execution_count": 34,
      "metadata": {
        "colab": {
          "base_uri": "https://localhost:8080/"
        },
        "id": "T88-Go7ElLay",
        "outputId": "2cc76203-e56e-41c7-b8ec-b5bbdfdb793b"
      },
      "outputs": [
        {
          "name": "stdout",
          "output_type": "stream",
          "text": [
            "torch.Size([60000, 28, 28])\n"
          ]
        },
        {
          "data": {
            "text/plain": [
              "(tensor(0.3081), tensor(0.1307))"
            ]
          },
          "execution_count": 34,
          "metadata": {},
          "output_type": "execute_result"
        }
      ],
      "source": [
        "num_epochs = 10\n",
        "batch_size = 100\n",
        "learning_rate = 0.001\n",
        "input_size = 28*28\n",
        "# hidden_size = sqrt(input_size * output_size)\n",
        "hidden_size = 90\n",
        "output_size = 10\n",
        "\n",
        "train_dataset = datasets.MNIST(root=\"../data\", train=True, download=True)\n",
        "print(train_dataset.data.shape)\n",
        "\n",
        "MEAN = (train_dataset.data / 255.0).mean()\n",
        "STD = (train_dataset.data / 255.0).std()\n",
        "\n",
        "STD, MEAN"
      ]
    },
    {
      "cell_type": "markdown",
      "metadata": {
        "id": "rypBQc4QlLa0"
      },
      "source": [
        "## Data loading in"
      ]
    },
    {
      "cell_type": "code",
      "execution_count": 35,
      "metadata": {
        "id": "pnAmXCVhlLa1"
      },
      "outputs": [],
      "source": [
        "# Using MNIST datasets\n",
        "composeTransforms = transforms.Compose([\n",
        "    transforms.ToTensor(),\n",
        "    transforms.Normalize(MEAN, STD)\n",
        "])\n",
        "\n",
        "train_dataset = datasets.MNIST(root=\"../data\", train=True, download=True,transform=composeTransforms)\n",
        "test_dataset = datasets.MNIST(root=\"../data\", train=False, download=True,transform=composeTransforms)\n",
        "\n",
        "# data loader\n",
        "train_loader = DataLoader(train_dataset, batch_size=batch_size, shuffle=True)\n",
        "test_loader = DataLoader(test_dataset, batch_size=batch_size, shuffle=False)\n"
      ]
    },
    {
      "cell_type": "markdown",
      "metadata": {
        "id": "s16qtSaflLa1"
      },
      "source": [
        "## Setup model"
      ]
    },
    {
      "cell_type": "code",
      "execution_count": 36,
      "metadata": {
        "id": "5y8MxPKPlLa2"
      },
      "outputs": [],
      "source": [
        "class FFNeuralNet(nn.Module):\n",
        "    def __init__(self, inputSize, hiddenSize, outputSize):\n",
        "        super().__init__()\n",
        "        self.linear1 = nn.Linear(inputSize, hiddenSize)\n",
        "        self.relu = nn.ReLU()\n",
        "        self.linear2 = nn.Linear(hiddenSize, outputSize)\n",
        "        \n",
        "    def forward(self, x):\n",
        "        outputs = self.linear1(x)\n",
        "        outputs = self.relu(outputs)\n",
        "        outputs = self.linear2(outputs)\n",
        "        \n",
        "        return outputs"
      ]
    },
    {
      "cell_type": "markdown",
      "metadata": {
        "id": "V3kAcT64lLa2"
      },
      "source": [
        "## Traning model"
      ]
    },
    {
      "cell_type": "code",
      "execution_count": 37,
      "metadata": {
        "colab": {
          "base_uri": "https://localhost:8080/"
        },
        "id": "ogINbOqflLa2",
        "outputId": "986282fc-bda6-430c-8826-8a270e82780e"
      },
      "outputs": [
        {
          "name": "stdout",
          "output_type": "stream",
          "text": [
            "Epoch 1 / 10 step [100/ 600], loss = 0.3896\n",
            "Epoch 1 / 10 step [200/ 600], loss = 0.2679\n",
            "Epoch 1 / 10 step [300/ 600], loss = 0.2839\n",
            "Epoch 1 / 10 step [400/ 600], loss = 0.1982\n",
            "Epoch 1 / 10 step [500/ 600], loss = 0.1457\n",
            "Epoch 1 / 10 step [600/ 600], loss = 0.1370\n",
            "Epoch 2 / 10 step [100/ 600], loss = 0.1808\n",
            "Epoch 2 / 10 step [200/ 600], loss = 0.1895\n",
            "Epoch 2 / 10 step [300/ 600], loss = 0.1731\n",
            "Epoch 2 / 10 step [400/ 600], loss = 0.1380\n",
            "Epoch 2 / 10 step [500/ 600], loss = 0.1339\n",
            "Epoch 2 / 10 step [600/ 600], loss = 0.1246\n",
            "Epoch 3 / 10 step [100/ 600], loss = 0.1026\n",
            "Epoch 3 / 10 step [200/ 600], loss = 0.0616\n",
            "Epoch 3 / 10 step [300/ 600], loss = 0.1347\n",
            "Epoch 3 / 10 step [400/ 600], loss = 0.0875\n",
            "Epoch 3 / 10 step [500/ 600], loss = 0.1024\n",
            "Epoch 3 / 10 step [600/ 600], loss = 0.0732\n",
            "Epoch 4 / 10 step [100/ 600], loss = 0.0362\n",
            "Epoch 4 / 10 step [200/ 600], loss = 0.0714\n",
            "Epoch 4 / 10 step [300/ 600], loss = 0.0560\n",
            "Epoch 4 / 10 step [400/ 600], loss = 0.0347\n",
            "Epoch 4 / 10 step [500/ 600], loss = 0.1977\n",
            "Epoch 4 / 10 step [600/ 600], loss = 0.0532\n",
            "Epoch 5 / 10 step [100/ 600], loss = 0.0498\n",
            "Epoch 5 / 10 step [200/ 600], loss = 0.0563\n",
            "Epoch 5 / 10 step [300/ 600], loss = 0.0608\n",
            "Epoch 5 / 10 step [400/ 600], loss = 0.0885\n",
            "Epoch 5 / 10 step [500/ 600], loss = 0.0947\n",
            "Epoch 5 / 10 step [600/ 600], loss = 0.1211\n",
            "Epoch 6 / 10 step [100/ 600], loss = 0.0827\n",
            "Epoch 6 / 10 step [200/ 600], loss = 0.0740\n",
            "Epoch 6 / 10 step [300/ 600], loss = 0.0449\n",
            "Epoch 6 / 10 step [400/ 600], loss = 0.0111\n",
            "Epoch 6 / 10 step [500/ 600], loss = 0.0276\n",
            "Epoch 6 / 10 step [600/ 600], loss = 0.0213\n",
            "Epoch 7 / 10 step [100/ 600], loss = 0.0141\n",
            "Epoch 7 / 10 step [200/ 600], loss = 0.0347\n",
            "Epoch 7 / 10 step [300/ 600], loss = 0.0656\n",
            "Epoch 7 / 10 step [400/ 600], loss = 0.0241\n",
            "Epoch 7 / 10 step [500/ 600], loss = 0.0216\n",
            "Epoch 7 / 10 step [600/ 600], loss = 0.0630\n",
            "Epoch 8 / 10 step [100/ 600], loss = 0.0435\n",
            "Epoch 8 / 10 step [200/ 600], loss = 0.0141\n",
            "Epoch 8 / 10 step [300/ 600], loss = 0.0303\n",
            "Epoch 8 / 10 step [400/ 600], loss = 0.0218\n",
            "Epoch 8 / 10 step [500/ 600], loss = 0.0160\n",
            "Epoch 8 / 10 step [600/ 600], loss = 0.0659\n",
            "Epoch 9 / 10 step [100/ 600], loss = 0.0600\n",
            "Epoch 9 / 10 step [200/ 600], loss = 0.0055\n",
            "Epoch 9 / 10 step [300/ 600], loss = 0.0328\n",
            "Epoch 9 / 10 step [400/ 600], loss = 0.0557\n",
            "Epoch 9 / 10 step [500/ 600], loss = 0.0267\n",
            "Epoch 9 / 10 step [600/ 600], loss = 0.0608\n",
            "Epoch 10 / 10 step [100/ 600], loss = 0.0101\n",
            "Epoch 10 / 10 step [200/ 600], loss = 0.0176\n",
            "Epoch 10 / 10 step [300/ 600], loss = 0.0225\n",
            "Epoch 10 / 10 step [400/ 600], loss = 0.0176\n",
            "Epoch 10 / 10 step [500/ 600], loss = 0.0406\n",
            "Epoch 10 / 10 step [600/ 600], loss = 0.0347\n"
          ]
        }
      ],
      "source": [
        "\n",
        "\n",
        "\n",
        "model= FFNeuralNet(input_size, hidden_size, output_size).to(device)\n",
        "\n",
        "# Optimizer and loss\n",
        "criterion = nn.CrossEntropyLoss()\n",
        "optimizer = torch.optim.Adam(model.parameters(), lr=learning_rate)\n",
        "n_total_steps = len(train_loader)\n",
        "\n",
        "for epoch in range(num_epochs):\n",
        "    for i, (images, labels) in enumerate(train_loader):\n",
        "        images = images.reshape(-1, 28* 28).to(device)\n",
        "        labels = labels.to(device)\n",
        "    \n",
        "        # forward\n",
        "        outputs = model(images)\n",
        "        loss = criterion(outputs, labels)\n",
        "    \n",
        "        # backward\n",
        "        optimizer.zero_grad()\n",
        "        loss.backward()\n",
        "        # update weights\n",
        "        optimizer.step()\n",
        "    \n",
        "        if( i + 1)%100 == 0 :\n",
        "            print(f\"Epoch {epoch + 1} / {num_epochs} step [{i + 1}/ {n_total_steps}], loss = {loss.item():.4f}\")\n",
        "            "
      ]
    },
    {
      "cell_type": "markdown",
      "metadata": {
        "id": "7PhWzOPtlLa3"
      },
      "source": [
        "## Make prediction"
      ]
    },
    {
      "cell_type": "code",
      "execution_count": 38,
      "metadata": {
        "colab": {
          "base_uri": "https://localhost:8080/"
        },
        "id": "ljQvKSNnlLa3",
        "outputId": "0f3c5ef0-fa64-4c53-cf8d-ceb4fbc90eec"
      },
      "outputs": [
        {
          "name": "stdout",
          "output_type": "stream",
          "text": [
            "Accuracy = 97.5999984741211 %\n"
          ]
        }
      ],
      "source": [
        "\n",
        "with torch.no_grad():\n",
        "    n_correct = 0\n",
        "    n_samples = 0\n",
        "    for i, (images, labels) in enumerate(test_loader):\n",
        "        images = images.reshape(-1, 28*28).to(device)\n",
        "        labels = labels.to(device)\n",
        "        \n",
        "        # forward\n",
        "        outputs = model(images)\n",
        "        _, outputs = torch.max(outputs, 1)\n",
        "        \n",
        "        n_samples += labels.shape[0]\n",
        "        n_correct += torch.sum(outputs == labels)\n",
        "    acc = 100.0*n_correct/n_samples\n",
        "    print(f\"Accuracy = {acc} %\")\n",
        "    \n",
        "    "
      ]
    },
    {
      "cell_type": "markdown",
      "metadata": {},
      "source": [
        "## Saving model"
      ]
    },
    {
      "cell_type": "code",
      "execution_count": 39,
      "metadata": {},
      "outputs": [],
      "source": [
        "torch.save(model.state_dict(), \"mnist_fnn.pth\")"
      ]
    }
  ],
  "metadata": {
    "accelerator": "GPU",
    "colab": {
      "name": "FF_NN.ipynb",
      "provenance": []
    },
    "gpuClass": "standard",
    "kernelspec": {
      "display_name": "Python 3.9.7 ('venv': venv)",
      "language": "python",
      "name": "python3"
    },
    "language_info": {
      "codemirror_mode": {
        "name": "ipython",
        "version": 3
      },
      "file_extension": ".py",
      "mimetype": "text/x-python",
      "name": "python",
      "nbconvert_exporter": "python",
      "pygments_lexer": "ipython3",
      "version": "3.9.7"
    },
    "orig_nbformat": 4,
    "vscode": {
      "interpreter": {
        "hash": "3447c4e8d12869e7842cb782dabfc9aa57141d8e14f316faf8a5d1edda99ca6e"
      }
    }
  },
  "nbformat": 4,
  "nbformat_minor": 0
}
